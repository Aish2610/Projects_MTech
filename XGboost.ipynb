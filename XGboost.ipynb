{
 "cells": [
  {
   "cell_type": "code",
   "execution_count": 1,
   "metadata": {},
   "outputs": [
    {
     "name": "stdout",
     "output_type": "stream",
     "text": [
      "Requirement already satisfied: numpy in c:\\programdata\\anaconda3\\lib\\site-packages (1.18.1)\n",
      "Requirement already satisfied: pandas in c:\\programdata\\anaconda3\\lib\\site-packages (1.0.1)\n",
      "Requirement already satisfied: sklearn in c:\\programdata\\anaconda3\\lib\\site-packages (0.0)\n",
      "Requirement already satisfied: xgboost in c:\\programdata\\anaconda3\\lib\\site-packages (1.2.0)\n",
      "Requirement already satisfied: python-dateutil>=2.6.1 in c:\\programdata\\anaconda3\\lib\\site-packages (from pandas) (2.8.1)\n",
      "Requirement already satisfied: pytz>=2017.2 in c:\\programdata\\anaconda3\\lib\\site-packages (from pandas) (2019.3)\n",
      "Requirement already satisfied: scikit-learn in c:\\programdata\\anaconda3\\lib\\site-packages (from sklearn) (0.22.1)\n",
      "Requirement already satisfied: scipy in c:\\programdata\\anaconda3\\lib\\site-packages (from xgboost) (1.4.1)\n",
      "Requirement already satisfied: six>=1.5 in c:\\programdata\\anaconda3\\lib\\site-packages (from python-dateutil>=2.6.1->pandas) (1.14.0)\n",
      "Requirement already satisfied: joblib>=0.11 in c:\\programdata\\anaconda3\\lib\\site-packages (from scikit-learn->sklearn) (0.14.1)\n",
      "Note: you may need to restart the kernel to use updated packages.\n"
     ]
    }
   ],
   "source": [
    "pip install numpy pandas sklearn xgboost"
   ]
  },
  {
   "cell_type": "code",
   "execution_count": 2,
   "metadata": {},
   "outputs": [],
   "source": [
    "#C:\\Users\\DataFlair>jupyter lab"
   ]
  },
  {
   "cell_type": "code",
   "execution_count": 3,
   "metadata": {},
   "outputs": [],
   "source": [
    "import numpy as np\n",
    "import pandas as pd\n",
    "import os, sys\n",
    "from sklearn.preprocessing import MinMaxScaler\n",
    "from xgboost import XGBClassifier\n",
    "from sklearn.model_selection import train_test_split\n",
    "from sklearn.metrics import accuracy_score"
   ]
  },
  {
   "cell_type": "code",
   "execution_count": 5,
   "metadata": {},
   "outputs": [
    {
     "data": {
      "text/html": [
       "<div>\n",
       "<style scoped>\n",
       "    .dataframe tbody tr th:only-of-type {\n",
       "        vertical-align: middle;\n",
       "    }\n",
       "\n",
       "    .dataframe tbody tr th {\n",
       "        vertical-align: top;\n",
       "    }\n",
       "\n",
       "    .dataframe thead th {\n",
       "        text-align: right;\n",
       "    }\n",
       "</style>\n",
       "<table border=\"1\" class=\"dataframe\">\n",
       "  <thead>\n",
       "    <tr style=\"text-align: right;\">\n",
       "      <th></th>\n",
       "      <th>_ID_EXAM</th>\n",
       "      <th>IMAGE_NAME</th>\n",
       "      <th>ID_PATIENT</th>\n",
       "      <th>CLASS_TYPE</th>\n",
       "      <th>GENDER</th>\n",
       "      <th>RIGH/LEFT-HANDED</th>\n",
       "      <th>AGE</th>\n",
       "      <th>RMS</th>\n",
       "      <th>MAX_BETWEEN_ST_HT</th>\n",
       "      <th>MIN_BETWEEN_ST_HT</th>\n",
       "      <th>STD_DEVIATION_ST_HT</th>\n",
       "      <th>MRT</th>\n",
       "      <th>MAX_HT</th>\n",
       "      <th>MIN_HT</th>\n",
       "      <th>STD_HT</th>\n",
       "      <th>CHANGES_FROM_NEGATIVE_TO_POSITIVE_BETWEEN_ST_HT</th>\n",
       "    </tr>\n",
       "  </thead>\n",
       "  <tbody>\n",
       "    <tr>\n",
       "      <th>0</th>\n",
       "      <td>68</td>\n",
       "      <td>0068-1.jpg</td>\n",
       "      <td>1</td>\n",
       "      <td>1</td>\n",
       "      <td>F</td>\n",
       "      <td>L</td>\n",
       "      <td>28</td>\n",
       "      <td>3176.216064</td>\n",
       "      <td>7098.378906</td>\n",
       "      <td>46569.03516</td>\n",
       "      <td>0.000672</td>\n",
       "      <td>21.280848</td>\n",
       "      <td>224.197754</td>\n",
       "      <td>0.156795</td>\n",
       "      <td>802.821106</td>\n",
       "      <td>0.216138</td>\n",
       "    </tr>\n",
       "    <tr>\n",
       "      <th>1</th>\n",
       "      <td>68</td>\n",
       "      <td>0068-2.jpg</td>\n",
       "      <td>1</td>\n",
       "      <td>1</td>\n",
       "      <td>F</td>\n",
       "      <td>L</td>\n",
       "      <td>28</td>\n",
       "      <td>2751.015869</td>\n",
       "      <td>6263.803711</td>\n",
       "      <td>44059.59766</td>\n",
       "      <td>0.000000</td>\n",
       "      <td>22.056967</td>\n",
       "      <td>212.937836</td>\n",
       "      <td>0.009198</td>\n",
       "      <td>939.975647</td>\n",
       "      <td>0.184438</td>\n",
       "    </tr>\n",
       "    <tr>\n",
       "      <th>2</th>\n",
       "      <td>68</td>\n",
       "      <td>0068-3.jpg</td>\n",
       "      <td>1</td>\n",
       "      <td>1</td>\n",
       "      <td>F</td>\n",
       "      <td>L</td>\n",
       "      <td>28</td>\n",
       "      <td>3050.623779</td>\n",
       "      <td>6548.623047</td>\n",
       "      <td>40298.10938</td>\n",
       "      <td>0.000026</td>\n",
       "      <td>22.451719</td>\n",
       "      <td>223.401764</td>\n",
       "      <td>0.000000</td>\n",
       "      <td>997.580139</td>\n",
       "      <td>0.181287</td>\n",
       "    </tr>\n",
       "    <tr>\n",
       "      <th>3</th>\n",
       "      <td>68</td>\n",
       "      <td>0068-4.jpg</td>\n",
       "      <td>1</td>\n",
       "      <td>1</td>\n",
       "      <td>F</td>\n",
       "      <td>L</td>\n",
       "      <td>28</td>\n",
       "      <td>2594.598877</td>\n",
       "      <td>6989.159180</td>\n",
       "      <td>54217.63281</td>\n",
       "      <td>0.000000</td>\n",
       "      <td>30.559263</td>\n",
       "      <td>233.222504</td>\n",
       "      <td>0.367697</td>\n",
       "      <td>2060.858887</td>\n",
       "      <td>0.193084</td>\n",
       "    </tr>\n",
       "    <tr>\n",
       "      <th>4</th>\n",
       "      <td>92</td>\n",
       "      <td>0092-1.jpg</td>\n",
       "      <td>2</td>\n",
       "      <td>1</td>\n",
       "      <td>M</td>\n",
       "      <td>R</td>\n",
       "      <td>37</td>\n",
       "      <td>3310.786865</td>\n",
       "      <td>6060.232422</td>\n",
       "      <td>35212.75781</td>\n",
       "      <td>0.000667</td>\n",
       "      <td>18.138407</td>\n",
       "      <td>196.811325</td>\n",
       "      <td>0.073079</td>\n",
       "      <td>562.886475</td>\n",
       "      <td>0.193642</td>\n",
       "    </tr>\n",
       "  </tbody>\n",
       "</table>\n",
       "</div>"
      ],
      "text/plain": [
       "   _ID_EXAM  IMAGE_NAME  ID_PATIENT  CLASS_TYPE GENDER RIGH/LEFT-HANDED  AGE  \\\n",
       "0        68  0068-1.jpg           1           1      F                L   28   \n",
       "1        68  0068-2.jpg           1           1      F                L   28   \n",
       "2        68  0068-3.jpg           1           1      F                L   28   \n",
       "3        68  0068-4.jpg           1           1      F                L   28   \n",
       "4        92  0092-1.jpg           2           1      M                R   37   \n",
       "\n",
       "           RMS  MAX_BETWEEN_ST_HT  MIN_BETWEEN_ST_HT  STD_DEVIATION_ST_HT  \\\n",
       "0  3176.216064        7098.378906        46569.03516             0.000672   \n",
       "1  2751.015869        6263.803711        44059.59766             0.000000   \n",
       "2  3050.623779        6548.623047        40298.10938             0.000026   \n",
       "3  2594.598877        6989.159180        54217.63281             0.000000   \n",
       "4  3310.786865        6060.232422        35212.75781             0.000667   \n",
       "\n",
       "         MRT      MAX_HT    MIN_HT       STD_HT  \\\n",
       "0  21.280848  224.197754  0.156795   802.821106   \n",
       "1  22.056967  212.937836  0.009198   939.975647   \n",
       "2  22.451719  223.401764  0.000000   997.580139   \n",
       "3  30.559263  233.222504  0.367697  2060.858887   \n",
       "4  18.138407  196.811325  0.073079   562.886475   \n",
       "\n",
       "   CHANGES_FROM_NEGATIVE_TO_POSITIVE_BETWEEN_ST_HT  \n",
       "0                                         0.216138  \n",
       "1                                         0.184438  \n",
       "2                                         0.181287  \n",
       "3                                         0.193084  \n",
       "4                                         0.193642  "
      ]
     },
     "execution_count": 5,
     "metadata": {},
     "output_type": "execute_result"
    }
   ],
   "source": [
    "#DataFlair - Read the data\n",
    "df=pd.read_csv(r'C:\\Users\\aishk\\Downloads\\Meander_HandPD.csv')\n",
    "df.head()"
   ]
  },
  {
   "cell_type": "code",
   "execution_count": 6,
   "metadata": {},
   "outputs": [],
   "source": [
    "#DataFlair - Get the features and labels\n",
    "features=df.loc[:,df.columns!=''].values[:,1:]\n",
    "labels=df.loc[:,'status'].values"
   ]
  },
  {
   "cell_type": "code",
   "execution_count": 7,
   "metadata": {},
   "outputs": [
    {
     "name": "stdout",
     "output_type": "stream",
     "text": [
      "147 48\n"
     ]
    }
   ],
   "source": [
    "#DataFlair - Get the count of each label (0 and 1) in labels\n",
    "print(labels[labels==1].shape[0], labels[labels==0].shape[0])"
   ]
  },
  {
   "cell_type": "code",
   "execution_count": 8,
   "metadata": {},
   "outputs": [],
   "source": [
    "#DataFlair - Scale the features to between -1 and 1\n",
    "scaler=MinMaxScaler((-1,1))\n",
    "x=scaler.fit_transform(features)\n",
    "y=labels"
   ]
  },
  {
   "cell_type": "code",
   "execution_count": 9,
   "metadata": {},
   "outputs": [],
   "source": [
    "#DataFlair - Split the dataset\n",
    "x_train,x_test,y_train,y_test=train_test_split(x, y, test_size=0.2, random_state=7)"
   ]
  },
  {
   "cell_type": "code",
   "execution_count": 10,
   "metadata": {},
   "outputs": [
    {
     "data": {
      "text/plain": [
       "XGBClassifier(base_score=0.5, booster='gbtree', colsample_bylevel=1,\n",
       "              colsample_bynode=1, colsample_bytree=1, gamma=0, gpu_id=-1,\n",
       "              importance_type='gain', interaction_constraints='',\n",
       "              learning_rate=0.300000012, max_delta_step=0, max_depth=6,\n",
       "              min_child_weight=1, missing=nan, monotone_constraints='()',\n",
       "              n_estimators=100, n_jobs=0, num_parallel_tree=1,\n",
       "              objective='binary:logistic', random_state=0, reg_alpha=0,\n",
       "              reg_lambda=1, scale_pos_weight=1, subsample=1,\n",
       "              tree_method='exact', validate_parameters=1, verbosity=None)"
      ]
     },
     "execution_count": 10,
     "metadata": {},
     "output_type": "execute_result"
    }
   ],
   "source": [
    "#DataFlair - Train the model\n",
    "model=XGBClassifier()\n",
    "model.fit(x_train,y_train)"
   ]
  },
  {
   "cell_type": "code",
   "execution_count": 11,
   "metadata": {},
   "outputs": [
    {
     "name": "stdout",
     "output_type": "stream",
     "text": [
      "94.87179487179486\n"
     ]
    }
   ],
   "source": [
    "# DataFlair - Calculate the accuracy\n",
    "y_pred=model.predict(x_test)\n",
    "print(accuracy_score(y_test, y_pred)*100)"
   ]
  },
  {
   "cell_type": "code",
   "execution_count": null,
   "metadata": {},
   "outputs": [],
   "source": []
  }
 ],
 "metadata": {
  "kernelspec": {
   "display_name": "Python 3",
   "language": "python",
   "name": "python3"
  },
  "language_info": {
   "codemirror_mode": {
    "name": "ipython",
    "version": 3
   },
   "file_extension": ".py",
   "mimetype": "text/x-python",
   "name": "python",
   "nbconvert_exporter": "python",
   "pygments_lexer": "ipython3",
   "version": "3.8.5"
  }
 },
 "nbformat": 4,
 "nbformat_minor": 4
}
