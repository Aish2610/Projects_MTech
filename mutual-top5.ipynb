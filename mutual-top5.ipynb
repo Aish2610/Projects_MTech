{
 "cells": [
  {
   "cell_type": "code",
   "execution_count": 12,
   "metadata": {},
   "outputs": [],
   "source": [
    "# Import Dependencies\n",
    "import pandas as pd\n",
    "import numpy as np\n",
    "import matplotlib.pyplot as plt\n",
    "import seaborn as sns\n",
    "from sklearn.model_selection import train_test_split\n",
    "# mutual_info_classif\n",
    "from sklearn.feature_selection import mutual_info_classif\n",
    "from sklearn.feature_selection import SelectKBest, SelectPercentile\n",
    "%matplotlib inline"
   ]
  },
  {
   "cell_type": "code",
   "execution_count": 13,
   "metadata": {},
   "outputs": [
    {
     "data": {
      "text/plain": [
       "(368, 16)"
      ]
     },
     "execution_count": 13,
     "metadata": {},
     "output_type": "execute_result"
    }
   ],
   "source": [
    "df = pd.read_csv(r'C:\\Users\\aishk\\Downloads\\Meander_HandPD.csv')\n",
    "df.shape"
   ]
  },
  {
   "cell_type": "code",
   "execution_count": 14,
   "metadata": {},
   "outputs": [
    {
     "data": {
      "text/html": [
       "<div>\n",
       "<style scoped>\n",
       "    .dataframe tbody tr th:only-of-type {\n",
       "        vertical-align: middle;\n",
       "    }\n",
       "\n",
       "    .dataframe tbody tr th {\n",
       "        vertical-align: top;\n",
       "    }\n",
       "\n",
       "    .dataframe thead th {\n",
       "        text-align: right;\n",
       "    }\n",
       "</style>\n",
       "<table border=\"1\" class=\"dataframe\">\n",
       "  <thead>\n",
       "    <tr style=\"text-align: right;\">\n",
       "      <th></th>\n",
       "      <th>_ID_EXAM</th>\n",
       "      <th>IMAGE_NAME</th>\n",
       "      <th>ID_PATIENT</th>\n",
       "      <th>CLASS_TYPE</th>\n",
       "      <th>GENDER</th>\n",
       "      <th>RIGH/LEFT-HANDED</th>\n",
       "      <th>AGE</th>\n",
       "      <th>RMS</th>\n",
       "      <th>MAX_BETWEEN_ST_HT</th>\n",
       "      <th>MIN_BETWEEN_ST_HT</th>\n",
       "      <th>STD_DEVIATION_ST_HT</th>\n",
       "      <th>MRT</th>\n",
       "      <th>MAX_HT</th>\n",
       "      <th>MIN_HT</th>\n",
       "      <th>STD_HT</th>\n",
       "      <th>CHANGES_FROM_NEGATIVE_TO_POSITIVE_BETWEEN_ST_HT</th>\n",
       "    </tr>\n",
       "  </thead>\n",
       "  <tbody>\n",
       "    <tr>\n",
       "      <th>0</th>\n",
       "      <td>68</td>\n",
       "      <td>0068-1.jpg</td>\n",
       "      <td>1</td>\n",
       "      <td>1</td>\n",
       "      <td>F</td>\n",
       "      <td>L</td>\n",
       "      <td>28</td>\n",
       "      <td>3176.216064</td>\n",
       "      <td>7098.378906</td>\n",
       "      <td>46569.03516</td>\n",
       "      <td>0.000672</td>\n",
       "      <td>21.280848</td>\n",
       "      <td>224.197754</td>\n",
       "      <td>0.156795</td>\n",
       "      <td>802.821106</td>\n",
       "      <td>0.216138</td>\n",
       "    </tr>\n",
       "    <tr>\n",
       "      <th>1</th>\n",
       "      <td>68</td>\n",
       "      <td>0068-2.jpg</td>\n",
       "      <td>1</td>\n",
       "      <td>1</td>\n",
       "      <td>F</td>\n",
       "      <td>L</td>\n",
       "      <td>28</td>\n",
       "      <td>2751.015869</td>\n",
       "      <td>6263.803711</td>\n",
       "      <td>44059.59766</td>\n",
       "      <td>0.000000</td>\n",
       "      <td>22.056967</td>\n",
       "      <td>212.937836</td>\n",
       "      <td>0.009198</td>\n",
       "      <td>939.975647</td>\n",
       "      <td>0.184438</td>\n",
       "    </tr>\n",
       "    <tr>\n",
       "      <th>2</th>\n",
       "      <td>68</td>\n",
       "      <td>0068-3.jpg</td>\n",
       "      <td>1</td>\n",
       "      <td>1</td>\n",
       "      <td>F</td>\n",
       "      <td>L</td>\n",
       "      <td>28</td>\n",
       "      <td>3050.623779</td>\n",
       "      <td>6548.623047</td>\n",
       "      <td>40298.10938</td>\n",
       "      <td>0.000026</td>\n",
       "      <td>22.451719</td>\n",
       "      <td>223.401764</td>\n",
       "      <td>0.000000</td>\n",
       "      <td>997.580139</td>\n",
       "      <td>0.181287</td>\n",
       "    </tr>\n",
       "    <tr>\n",
       "      <th>3</th>\n",
       "      <td>68</td>\n",
       "      <td>0068-4.jpg</td>\n",
       "      <td>1</td>\n",
       "      <td>1</td>\n",
       "      <td>F</td>\n",
       "      <td>L</td>\n",
       "      <td>28</td>\n",
       "      <td>2594.598877</td>\n",
       "      <td>6989.159180</td>\n",
       "      <td>54217.63281</td>\n",
       "      <td>0.000000</td>\n",
       "      <td>30.559263</td>\n",
       "      <td>233.222504</td>\n",
       "      <td>0.367697</td>\n",
       "      <td>2060.858887</td>\n",
       "      <td>0.193084</td>\n",
       "    </tr>\n",
       "    <tr>\n",
       "      <th>4</th>\n",
       "      <td>92</td>\n",
       "      <td>0092-1.jpg</td>\n",
       "      <td>2</td>\n",
       "      <td>1</td>\n",
       "      <td>M</td>\n",
       "      <td>R</td>\n",
       "      <td>37</td>\n",
       "      <td>3310.786865</td>\n",
       "      <td>6060.232422</td>\n",
       "      <td>35212.75781</td>\n",
       "      <td>0.000667</td>\n",
       "      <td>18.138407</td>\n",
       "      <td>196.811325</td>\n",
       "      <td>0.073079</td>\n",
       "      <td>562.886475</td>\n",
       "      <td>0.193642</td>\n",
       "    </tr>\n",
       "  </tbody>\n",
       "</table>\n",
       "</div>"
      ],
      "text/plain": [
       "   _ID_EXAM  IMAGE_NAME  ID_PATIENT  CLASS_TYPE GENDER RIGH/LEFT-HANDED  AGE  \\\n",
       "0        68  0068-1.jpg           1           1      F                L   28   \n",
       "1        68  0068-2.jpg           1           1      F                L   28   \n",
       "2        68  0068-3.jpg           1           1      F                L   28   \n",
       "3        68  0068-4.jpg           1           1      F                L   28   \n",
       "4        92  0092-1.jpg           2           1      M                R   37   \n",
       "\n",
       "           RMS  MAX_BETWEEN_ST_HT  MIN_BETWEEN_ST_HT  STD_DEVIATION_ST_HT  \\\n",
       "0  3176.216064        7098.378906        46569.03516             0.000672   \n",
       "1  2751.015869        6263.803711        44059.59766             0.000000   \n",
       "2  3050.623779        6548.623047        40298.10938             0.000026   \n",
       "3  2594.598877        6989.159180        54217.63281             0.000000   \n",
       "4  3310.786865        6060.232422        35212.75781             0.000667   \n",
       "\n",
       "         MRT      MAX_HT    MIN_HT       STD_HT  \\\n",
       "0  21.280848  224.197754  0.156795   802.821106   \n",
       "1  22.056967  212.937836  0.009198   939.975647   \n",
       "2  22.451719  223.401764  0.000000   997.580139   \n",
       "3  30.559263  233.222504  0.367697  2060.858887   \n",
       "4  18.138407  196.811325  0.073079   562.886475   \n",
       "\n",
       "   CHANGES_FROM_NEGATIVE_TO_POSITIVE_BETWEEN_ST_HT  \n",
       "0                                         0.216138  \n",
       "1                                         0.184438  \n",
       "2                                         0.181287  \n",
       "3                                         0.193084  \n",
       "4                                         0.193642  "
      ]
     },
     "execution_count": 14,
     "metadata": {},
     "output_type": "execute_result"
    }
   ],
   "source": [
    "df.head()"
   ]
  },
  {
   "cell_type": "code",
   "execution_count": 15,
   "metadata": {},
   "outputs": [],
   "source": [
    "\n",
    "# Get Numerical features from dataset# Get N \n",
    "numerics = ['int16', 'int32','int64', 'float16', 'float32', 'float64']\n",
    "numerical_features = list(df.select_dtypes(include=numerics).columns)"
   ]
  },
  {
   "cell_type": "code",
   "execution_count": 16,
   "metadata": {},
   "outputs": [],
   "source": [
    "data = df[numerical_features]"
   ]
  },
  {
   "cell_type": "code",
   "execution_count": 17,
   "metadata": {},
   "outputs": [
    {
     "data": {
      "text/html": [
       "<div>\n",
       "<style scoped>\n",
       "    .dataframe tbody tr th:only-of-type {\n",
       "        vertical-align: middle;\n",
       "    }\n",
       "\n",
       "    .dataframe tbody tr th {\n",
       "        vertical-align: top;\n",
       "    }\n",
       "\n",
       "    .dataframe thead th {\n",
       "        text-align: right;\n",
       "    }\n",
       "</style>\n",
       "<table border=\"1\" class=\"dataframe\">\n",
       "  <thead>\n",
       "    <tr style=\"text-align: right;\">\n",
       "      <th></th>\n",
       "      <th>_ID_EXAM</th>\n",
       "      <th>ID_PATIENT</th>\n",
       "      <th>CLASS_TYPE</th>\n",
       "      <th>AGE</th>\n",
       "      <th>RMS</th>\n",
       "      <th>MAX_BETWEEN_ST_HT</th>\n",
       "      <th>MIN_BETWEEN_ST_HT</th>\n",
       "      <th>STD_DEVIATION_ST_HT</th>\n",
       "      <th>MRT</th>\n",
       "      <th>MAX_HT</th>\n",
       "      <th>MIN_HT</th>\n",
       "      <th>STD_HT</th>\n",
       "      <th>CHANGES_FROM_NEGATIVE_TO_POSITIVE_BETWEEN_ST_HT</th>\n",
       "    </tr>\n",
       "  </thead>\n",
       "  <tbody>\n",
       "    <tr>\n",
       "      <th>0</th>\n",
       "      <td>68</td>\n",
       "      <td>1</td>\n",
       "      <td>1</td>\n",
       "      <td>28</td>\n",
       "      <td>3176.216064</td>\n",
       "      <td>7098.378906</td>\n",
       "      <td>46569.03516</td>\n",
       "      <td>0.000672</td>\n",
       "      <td>21.280848</td>\n",
       "      <td>224.197754</td>\n",
       "      <td>0.156795</td>\n",
       "      <td>802.821106</td>\n",
       "      <td>0.216138</td>\n",
       "    </tr>\n",
       "    <tr>\n",
       "      <th>1</th>\n",
       "      <td>68</td>\n",
       "      <td>1</td>\n",
       "      <td>1</td>\n",
       "      <td>28</td>\n",
       "      <td>2751.015869</td>\n",
       "      <td>6263.803711</td>\n",
       "      <td>44059.59766</td>\n",
       "      <td>0.000000</td>\n",
       "      <td>22.056967</td>\n",
       "      <td>212.937836</td>\n",
       "      <td>0.009198</td>\n",
       "      <td>939.975647</td>\n",
       "      <td>0.184438</td>\n",
       "    </tr>\n",
       "    <tr>\n",
       "      <th>2</th>\n",
       "      <td>68</td>\n",
       "      <td>1</td>\n",
       "      <td>1</td>\n",
       "      <td>28</td>\n",
       "      <td>3050.623779</td>\n",
       "      <td>6548.623047</td>\n",
       "      <td>40298.10938</td>\n",
       "      <td>0.000026</td>\n",
       "      <td>22.451719</td>\n",
       "      <td>223.401764</td>\n",
       "      <td>0.000000</td>\n",
       "      <td>997.580139</td>\n",
       "      <td>0.181287</td>\n",
       "    </tr>\n",
       "    <tr>\n",
       "      <th>3</th>\n",
       "      <td>68</td>\n",
       "      <td>1</td>\n",
       "      <td>1</td>\n",
       "      <td>28</td>\n",
       "      <td>2594.598877</td>\n",
       "      <td>6989.159180</td>\n",
       "      <td>54217.63281</td>\n",
       "      <td>0.000000</td>\n",
       "      <td>30.559263</td>\n",
       "      <td>233.222504</td>\n",
       "      <td>0.367697</td>\n",
       "      <td>2060.858887</td>\n",
       "      <td>0.193084</td>\n",
       "    </tr>\n",
       "    <tr>\n",
       "      <th>4</th>\n",
       "      <td>92</td>\n",
       "      <td>2</td>\n",
       "      <td>1</td>\n",
       "      <td>37</td>\n",
       "      <td>3310.786865</td>\n",
       "      <td>6060.232422</td>\n",
       "      <td>35212.75781</td>\n",
       "      <td>0.000667</td>\n",
       "      <td>18.138407</td>\n",
       "      <td>196.811325</td>\n",
       "      <td>0.073079</td>\n",
       "      <td>562.886475</td>\n",
       "      <td>0.193642</td>\n",
       "    </tr>\n",
       "  </tbody>\n",
       "</table>\n",
       "</div>"
      ],
      "text/plain": [
       "   _ID_EXAM  ID_PATIENT  CLASS_TYPE  AGE          RMS  MAX_BETWEEN_ST_HT  \\\n",
       "0        68           1           1   28  3176.216064        7098.378906   \n",
       "1        68           1           1   28  2751.015869        6263.803711   \n",
       "2        68           1           1   28  3050.623779        6548.623047   \n",
       "3        68           1           1   28  2594.598877        6989.159180   \n",
       "4        92           2           1   37  3310.786865        6060.232422   \n",
       "\n",
       "   MIN_BETWEEN_ST_HT  STD_DEVIATION_ST_HT        MRT      MAX_HT    MIN_HT  \\\n",
       "0        46569.03516             0.000672  21.280848  224.197754  0.156795   \n",
       "1        44059.59766             0.000000  22.056967  212.937836  0.009198   \n",
       "2        40298.10938             0.000026  22.451719  223.401764  0.000000   \n",
       "3        54217.63281             0.000000  30.559263  233.222504  0.367697   \n",
       "4        35212.75781             0.000667  18.138407  196.811325  0.073079   \n",
       "\n",
       "        STD_HT  CHANGES_FROM_NEGATIVE_TO_POSITIVE_BETWEEN_ST_HT  \n",
       "0   802.821106                                         0.216138  \n",
       "1   939.975647                                         0.184438  \n",
       "2   997.580139                                         0.181287  \n",
       "3  2060.858887                                         0.193084  \n",
       "4   562.886475                                         0.193642  "
      ]
     },
     "execution_count": 17,
     "metadata": {},
     "output_type": "execute_result"
    }
   ],
   "source": [
    "data.head()"
   ]
  },
  {
   "cell_type": "code",
   "execution_count": 18,
   "metadata": {},
   "outputs": [],
   "source": [
    "features=df.loc[:,df.columns!='CLASS_TYPE']\n",
    "labels=df.loc[:,'CLASS_TYPE']"
   ]
  },
  {
   "cell_type": "code",
   "execution_count": 19,
   "metadata": {},
   "outputs": [],
   "source": [
    "features = features.drop(['_ID_EXAM', 'ID_PATIENT','AGE','IMAGE_NAME','GENDER','RIGH/LEFT-HANDED'], axis=1)"
   ]
  },
  {
   "cell_type": "code",
   "execution_count": 20,
   "metadata": {},
   "outputs": [
    {
     "data": {
      "text/html": [
       "<div>\n",
       "<style scoped>\n",
       "    .dataframe tbody tr th:only-of-type {\n",
       "        vertical-align: middle;\n",
       "    }\n",
       "\n",
       "    .dataframe tbody tr th {\n",
       "        vertical-align: top;\n",
       "    }\n",
       "\n",
       "    .dataframe thead th {\n",
       "        text-align: right;\n",
       "    }\n",
       "</style>\n",
       "<table border=\"1\" class=\"dataframe\">\n",
       "  <thead>\n",
       "    <tr style=\"text-align: right;\">\n",
       "      <th></th>\n",
       "      <th>RMS</th>\n",
       "      <th>MAX_BETWEEN_ST_HT</th>\n",
       "      <th>MIN_BETWEEN_ST_HT</th>\n",
       "      <th>STD_DEVIATION_ST_HT</th>\n",
       "      <th>MRT</th>\n",
       "      <th>MAX_HT</th>\n",
       "      <th>MIN_HT</th>\n",
       "      <th>STD_HT</th>\n",
       "      <th>CHANGES_FROM_NEGATIVE_TO_POSITIVE_BETWEEN_ST_HT</th>\n",
       "    </tr>\n",
       "  </thead>\n",
       "  <tbody>\n",
       "    <tr>\n",
       "      <th>0</th>\n",
       "      <td>3176.216064</td>\n",
       "      <td>7098.378906</td>\n",
       "      <td>46569.03516</td>\n",
       "      <td>0.000672</td>\n",
       "      <td>21.280848</td>\n",
       "      <td>224.197754</td>\n",
       "      <td>0.156795</td>\n",
       "      <td>802.821106</td>\n",
       "      <td>0.216138</td>\n",
       "    </tr>\n",
       "    <tr>\n",
       "      <th>1</th>\n",
       "      <td>2751.015869</td>\n",
       "      <td>6263.803711</td>\n",
       "      <td>44059.59766</td>\n",
       "      <td>0.000000</td>\n",
       "      <td>22.056967</td>\n",
       "      <td>212.937836</td>\n",
       "      <td>0.009198</td>\n",
       "      <td>939.975647</td>\n",
       "      <td>0.184438</td>\n",
       "    </tr>\n",
       "    <tr>\n",
       "      <th>2</th>\n",
       "      <td>3050.623779</td>\n",
       "      <td>6548.623047</td>\n",
       "      <td>40298.10938</td>\n",
       "      <td>0.000026</td>\n",
       "      <td>22.451719</td>\n",
       "      <td>223.401764</td>\n",
       "      <td>0.000000</td>\n",
       "      <td>997.580139</td>\n",
       "      <td>0.181287</td>\n",
       "    </tr>\n",
       "    <tr>\n",
       "      <th>3</th>\n",
       "      <td>2594.598877</td>\n",
       "      <td>6989.159180</td>\n",
       "      <td>54217.63281</td>\n",
       "      <td>0.000000</td>\n",
       "      <td>30.559263</td>\n",
       "      <td>233.222504</td>\n",
       "      <td>0.367697</td>\n",
       "      <td>2060.858887</td>\n",
       "      <td>0.193084</td>\n",
       "    </tr>\n",
       "    <tr>\n",
       "      <th>4</th>\n",
       "      <td>3310.786865</td>\n",
       "      <td>6060.232422</td>\n",
       "      <td>35212.75781</td>\n",
       "      <td>0.000667</td>\n",
       "      <td>18.138407</td>\n",
       "      <td>196.811325</td>\n",
       "      <td>0.073079</td>\n",
       "      <td>562.886475</td>\n",
       "      <td>0.193642</td>\n",
       "    </tr>\n",
       "  </tbody>\n",
       "</table>\n",
       "</div>"
      ],
      "text/plain": [
       "           RMS  MAX_BETWEEN_ST_HT  MIN_BETWEEN_ST_HT  STD_DEVIATION_ST_HT  \\\n",
       "0  3176.216064        7098.378906        46569.03516             0.000672   \n",
       "1  2751.015869        6263.803711        44059.59766             0.000000   \n",
       "2  3050.623779        6548.623047        40298.10938             0.000026   \n",
       "3  2594.598877        6989.159180        54217.63281             0.000000   \n",
       "4  3310.786865        6060.232422        35212.75781             0.000667   \n",
       "\n",
       "         MRT      MAX_HT    MIN_HT       STD_HT  \\\n",
       "0  21.280848  224.197754  0.156795   802.821106   \n",
       "1  22.056967  212.937836  0.009198   939.975647   \n",
       "2  22.451719  223.401764  0.000000   997.580139   \n",
       "3  30.559263  233.222504  0.367697  2060.858887   \n",
       "4  18.138407  196.811325  0.073079   562.886475   \n",
       "\n",
       "   CHANGES_FROM_NEGATIVE_TO_POSITIVE_BETWEEN_ST_HT  \n",
       "0                                         0.216138  \n",
       "1                                         0.184438  \n",
       "2                                         0.181287  \n",
       "3                                         0.193084  \n",
       "4                                         0.193642  "
      ]
     },
     "execution_count": 20,
     "metadata": {},
     "output_type": "execute_result"
    }
   ],
   "source": [
    "features.head()"
   ]
  },
  {
   "cell_type": "code",
   "execution_count": 21,
   "metadata": {},
   "outputs": [
    {
     "data": {
      "text/plain": [
       "0    1\n",
       "1    1\n",
       "2    1\n",
       "3    1\n",
       "4    1\n",
       "Name: CLASS_TYPE, dtype: int64"
      ]
     },
     "execution_count": 21,
     "metadata": {},
     "output_type": "execute_result"
    }
   ],
   "source": [
    "labels.head()"
   ]
  },
  {
   "cell_type": "code",
   "execution_count": 22,
   "metadata": {},
   "outputs": [
    {
     "data": {
      "text/plain": [
       "((257, 9), (257,), (111, 9), (111,))"
      ]
     },
     "execution_count": 22,
     "metadata": {},
     "output_type": "execute_result"
    }
   ],
   "source": [
    "# Train Test Split\n",
    "X_train, X_test, y_train, y_test = train_test_split(features, labels, test_size=0.3, random_state=101)\n",
    "X_train.shape, y_train.shape, X_test.shape, y_test.shape"
   ]
  },
  {
   "cell_type": "code",
   "execution_count": 23,
   "metadata": {},
   "outputs": [
    {
     "data": {
      "text/plain": [
       "array([0.05125546, 0.02279333, 0.00542427, 0.        , 0.02801563,\n",
       "       0.0325141 , 0.        , 0.05710369, 0.04085726])"
      ]
     },
     "execution_count": 23,
     "metadata": {},
     "output_type": "execute_result"
    }
   ],
   "source": [
    "# Calculate Mutual Information between each feature and the target\n",
    "mutual_info = mutual_info_classif(X_train.fillna(0), y_train)\n",
    "mutual_info"
   ]
  },
  {
   "cell_type": "code",
   "execution_count": 24,
   "metadata": {},
   "outputs": [
    {
     "data": {
      "text/plain": [
       "STD_HT                                             0.057104\n",
       "RMS                                                0.051255\n",
       "CHANGES_FROM_NEGATIVE_TO_POSITIVE_BETWEEN_ST_HT    0.040857\n",
       "MAX_HT                                             0.032514\n",
       "MRT                                                0.028016\n",
       "MAX_BETWEEN_ST_HT                                  0.022793\n",
       "MIN_BETWEEN_ST_HT                                  0.005424\n",
       "MIN_HT                                             0.000000\n",
       "STD_DEVIATION_ST_HT                                0.000000\n",
       "dtype: float64"
      ]
     },
     "execution_count": 24,
     "metadata": {},
     "output_type": "execute_result"
    }
   ],
   "source": [
    "# Create Feature Target Mutual Information Series\n",
    "mi_series = pd.Series(mutual_info)\n",
    "mi_series.index = X_train.columns\n",
    "mi_series.sort_values(ascending=False)"
   ]
  },
  {
   "cell_type": "code",
   "execution_count": 25,
   "metadata": {},
   "outputs": [
    {
     "data": {
      "text/plain": [
       "<matplotlib.axes._subplots.AxesSubplot at 0x2bce985f088>"
      ]
     },
     "execution_count": 25,
     "metadata": {},
     "output_type": "execute_result"
    },
    {
     "data": {
      "image/png": "[encoded data removed]",
      "text/plain": [
       "<Figure size 1440x576 with 1 Axes>"
      ]
     },
     "metadata": {
      "needs_background": "light"
     },
     "output_type": "display_data"
    }
   ],
   "source": [
    "mi_series.sort_values(ascending=False).plot.bar(figsize=(20,8))"
   ]
  },
  {
   "cell_type": "code",
   "execution_count": 26,
   "metadata": {},
   "outputs": [
    {
     "name": "stdout",
     "output_type": "stream",
     "text": [
      "Selected top 5 features: Index(['RMS', 'MRT', 'MAX_HT', 'STD_HT',\n",
      "       'CHANGES_FROM_NEGATIVE_TO_POSITIVE_BETWEEN_ST_HT'],\n",
      "      dtype='object')\n"
     ]
    }
   ],
   "source": [
    "# Select K best features\n",
    "k_best_features = SelectKBest(mutual_info_classif, k=5).fit(X_train.fillna(0), y_train)\n",
    "print('Selected top 5 features: {}'.format(X_train.columns[k_best_features.get_support()]))"
   ]
  },
  {
   "cell_type": "code",
   "execution_count": 27,
   "metadata": {},
   "outputs": [
    {
     "data": {
      "text/html": [
       "<div>\n",
       "<style scoped>\n",
       "    .dataframe tbody tr th:only-of-type {\n",
       "        vertical-align: middle;\n",
       "    }\n",
       "\n",
       "    .dataframe tbody tr th {\n",
       "        vertical-align: top;\n",
       "    }\n",
       "\n",
       "    .dataframe thead th {\n",
       "        text-align: right;\n",
       "    }\n",
       "</style>\n",
       "<table border=\"1\" class=\"dataframe\">\n",
       "  <thead>\n",
       "    <tr style=\"text-align: right;\">\n",
       "      <th></th>\n",
       "      <th>RMS</th>\n",
       "      <th>MRT</th>\n",
       "      <th>MAX_HT</th>\n",
       "      <th>STD_HT</th>\n",
       "      <th>CHANGES_FROM_NEGATIVE_TO_POSITIVE_BETWEEN_ST_HT</th>\n",
       "    </tr>\n",
       "  </thead>\n",
       "  <tbody>\n",
       "    <tr>\n",
       "      <th>0</th>\n",
       "      <td>3176.216064</td>\n",
       "      <td>21.280848</td>\n",
       "      <td>224.197754</td>\n",
       "      <td>802.821106</td>\n",
       "      <td>0.216138</td>\n",
       "    </tr>\n",
       "    <tr>\n",
       "      <th>1</th>\n",
       "      <td>2751.015869</td>\n",
       "      <td>22.056967</td>\n",
       "      <td>212.937836</td>\n",
       "      <td>939.975647</td>\n",
       "      <td>0.184438</td>\n",
       "    </tr>\n",
       "    <tr>\n",
       "      <th>2</th>\n",
       "      <td>3050.623779</td>\n",
       "      <td>22.451719</td>\n",
       "      <td>223.401764</td>\n",
       "      <td>997.580139</td>\n",
       "      <td>0.181287</td>\n",
       "    </tr>\n",
       "    <tr>\n",
       "      <th>3</th>\n",
       "      <td>2594.598877</td>\n",
       "      <td>30.559263</td>\n",
       "      <td>233.222504</td>\n",
       "      <td>2060.858887</td>\n",
       "      <td>0.193084</td>\n",
       "    </tr>\n",
       "    <tr>\n",
       "      <th>4</th>\n",
       "      <td>3310.786865</td>\n",
       "      <td>18.138407</td>\n",
       "      <td>196.811325</td>\n",
       "      <td>562.886475</td>\n",
       "      <td>0.193642</td>\n",
       "    </tr>\n",
       "  </tbody>\n",
       "</table>\n",
       "</div>"
      ],
      "text/plain": [
       "           RMS        MRT      MAX_HT       STD_HT  \\\n",
       "0  3176.216064  21.280848  224.197754   802.821106   \n",
       "1  2751.015869  22.056967  212.937836   939.975647   \n",
       "2  3050.623779  22.451719  223.401764   997.580139   \n",
       "3  2594.598877  30.559263  233.222504  2060.858887   \n",
       "4  3310.786865  18.138407  196.811325   562.886475   \n",
       "\n",
       "   CHANGES_FROM_NEGATIVE_TO_POSITIVE_BETWEEN_ST_HT  \n",
       "0                                         0.216138  \n",
       "1                                         0.184438  \n",
       "2                                         0.181287  \n",
       "3                                         0.193084  \n",
       "4                                         0.193642  "
      ]
     },
     "execution_count": 27,
     "metadata": {},
     "output_type": "execute_result"
    }
   ],
   "source": [
    "top5features = features.drop(['MIN_HT', 'STD_DEVIATION_ST_HT','MIN_BETWEEN_ST_HT','MAX_BETWEEN_ST_HT'], axis=1)\n",
    "top5features.head()"
   ]
  },
  {
   "cell_type": "code",
   "execution_count": 28,
   "metadata": {},
   "outputs": [],
   "source": [
    "X_train, X_test, y_train, y_test = train_test_split(top5features, labels, test_size=0.3, random_state=10)"
   ]
  },
  {
   "cell_type": "code",
   "execution_count": 29,
   "metadata": {},
   "outputs": [
    {
     "data": {
      "text/plain": [
       "XGBClassifier(base_score=0.5, booster='gbtree', colsample_bylevel=1,\n",
       "              colsample_bynode=1, colsample_bytree=1, gamma=0, gpu_id=-1,\n",
       "              importance_type='gain', interaction_constraints='',\n",
       "              learning_rate=0.300000012, max_delta_step=0, max_depth=6,\n",
       "              min_child_weight=1, missing=nan, monotone_constraints='()',\n",
       "              n_estimators=100, n_jobs=0, num_parallel_tree=1,\n",
       "              objective='binary:logistic', random_state=0, reg_alpha=0,\n",
       "              reg_lambda=1, scale_pos_weight=1, subsample=1,\n",
       "              tree_method='exact', validate_parameters=1, verbosity=None)"
      ]
     },
     "execution_count": 29,
     "metadata": {},
     "output_type": "execute_result"
    }
   ],
   "source": [
    "from xgboost import XGBClassifier\n",
    "xbg_model = XGBClassifier()\n",
    "xbg_model.fit(X_train, y_train)"
   ]
  },
  {
   "cell_type": "code",
   "execution_count": 30,
   "metadata": {},
   "outputs": [],
   "source": [
    "y_pred = xbg_model.predict(X_test)"
   ]
  },
  {
   "cell_type": "code",
   "execution_count": 31,
   "metadata": {},
   "outputs": [
    {
     "name": "stdout",
     "output_type": "stream",
     "text": [
      "[[ 8 15]\n",
      " [ 6 82]]\n"
     ]
    }
   ],
   "source": [
    "from sklearn.metrics import confusion_matrix, accuracy_score\n",
    "print(confusion_matrix(y_test, y_pred))"
   ]
  },
  {
   "cell_type": "code",
   "execution_count": 32,
   "metadata": {},
   "outputs": [
    {
     "name": "stdout",
     "output_type": "stream",
     "text": [
      "0.8108108108108109\n"
     ]
    }
   ],
   "source": [
    "print(accuracy_score(y_test, y_pred))"
   ]
  }
 ],
 "metadata": {
  "kernelspec": {
   "display_name": "Python 3",
   "language": "python",
   "name": "python3"
  },
  "language_info": {
   "codemirror_mode": {
    "name": "ipython",
    "version": 3
   },
   "file_extension": ".py",
   "mimetype": "text/x-python",
   "name": "python",
   "nbconvert_exporter": "python",
   "pygments_lexer": "ipython3",
   "version": "3.7.6"
  }
 },
 "nbformat": 4,
 "nbformat_minor": 4
}
