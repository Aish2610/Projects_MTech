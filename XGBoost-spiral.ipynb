{
 "cells": [
  {
   "cell_type": "code",
   "execution_count": 1,
   "metadata": {},
   "outputs": [],
   "source": [
    "### Import necessary packages"
   ]
  },
  {
   "cell_type": "code",
   "execution_count": 2,
   "metadata": {},
   "outputs": [],
   "source": [
    "from sklearn.model_selection import train_test_split\n",
    "from sklearn.preprocessing import MinMaxScaler\n",
    "from sklearn.metrics import confusion_matrix, accuracy_score\n",
    "from xgboost import XGBClassifier\n",
    "\n",
    "import matplotlib.pyplot as plt\n",
    "import seaborn as sns\n",
    "import pandas as pd"
   ]
  },
  {
   "cell_type": "code",
   "execution_count": 3,
   "metadata": {},
   "outputs": [],
   "source": [
    "### Read data We will be using pandas.read_csv function to read data file saved in form of csv(comma seperated values) format"
   ]
  },
  {
   "cell_type": "code",
   "execution_count": 4,
   "metadata": {},
   "outputs": [],
   "source": [
    "df_s = pd.read_csv(r'C:\\Users\\aishk\\Downloads\\Spiral_HandPD.csv')"
   ]
  },
  {
   "cell_type": "code",
   "execution_count": 5,
   "metadata": {},
   "outputs": [],
   "source": [
    "##### Overview of our dataframe: We will use DataFrame.head() which helps to get a overview on our dataset i.e by default it will show top 5 rows in our dataframe. We can change the default value by passing any number eg. df.head(NUM) where NUM it the total number of row you want to display"
   ]
  },
  {
   "cell_type": "code",
   "execution_count": 6,
   "metadata": {},
   "outputs": [
    {
     "data": {
      "text/html": [
       "<div>\n",
       "<style scoped>\n",
       "    .dataframe tbody tr th:only-of-type {\n",
       "        vertical-align: middle;\n",
       "    }\n",
       "\n",
       "    .dataframe tbody tr th {\n",
       "        vertical-align: top;\n",
       "    }\n",
       "\n",
       "    .dataframe thead th {\n",
       "        text-align: right;\n",
       "    }\n",
       "</style>\n",
       "<table border=\"1\" class=\"dataframe\">\n",
       "  <thead>\n",
       "    <tr style=\"text-align: right;\">\n",
       "      <th></th>\n",
       "      <th>_ID_EXAM</th>\n",
       "      <th>IMAGE_NAME</th>\n",
       "      <th>ID_PATIENT</th>\n",
       "      <th>CLASS_TYPE</th>\n",
       "      <th>GENDER</th>\n",
       "      <th>RIGH/LEFT-HANDED</th>\n",
       "      <th>AGE</th>\n",
       "      <th>RMS</th>\n",
       "      <th>MAX_BETWEEN_ET_HT</th>\n",
       "      <th>MIN_BETWEEN_ET_HT</th>\n",
       "      <th>STD_DEVIATION_ET_HT</th>\n",
       "      <th>MRT</th>\n",
       "      <th>MAX_HT</th>\n",
       "      <th>MIN_HT</th>\n",
       "      <th>STD_HT</th>\n",
       "      <th>CHANGES_FROM_NEGATIVE_TO_POSITIVE_BETWEEN_ET_HT</th>\n",
       "    </tr>\n",
       "  </thead>\n",
       "  <tbody>\n",
       "    <tr>\n",
       "      <th>0</th>\n",
       "      <td>68</td>\n",
       "      <td>0068-1.jpg</td>\n",
       "      <td>1</td>\n",
       "      <td>1</td>\n",
       "      <td>F</td>\n",
       "      <td>L</td>\n",
       "      <td>28</td>\n",
       "      <td>2446.759108</td>\n",
       "      <td>5388.771096</td>\n",
       "      <td>33435.39545</td>\n",
       "      <td>0.0</td>\n",
       "      <td>26.849731</td>\n",
       "      <td>183.854351</td>\n",
       "      <td>0.017068</td>\n",
       "      <td>1779.550502</td>\n",
       "      <td>0.216138</td>\n",
       "    </tr>\n",
       "    <tr>\n",
       "      <th>1</th>\n",
       "      <td>68</td>\n",
       "      <td>0068-2.jpg</td>\n",
       "      <td>1</td>\n",
       "      <td>1</td>\n",
       "      <td>F</td>\n",
       "      <td>L</td>\n",
       "      <td>28</td>\n",
       "      <td>2159.220559</td>\n",
       "      <td>4617.939790</td>\n",
       "      <td>34428.29401</td>\n",
       "      <td>0.0</td>\n",
       "      <td>26.758489</td>\n",
       "      <td>186.609895</td>\n",
       "      <td>0.000000</td>\n",
       "      <td>1885.340368</td>\n",
       "      <td>0.184438</td>\n",
       "    </tr>\n",
       "    <tr>\n",
       "      <th>2</th>\n",
       "      <td>68</td>\n",
       "      <td>0068-3.jpg</td>\n",
       "      <td>1</td>\n",
       "      <td>1</td>\n",
       "      <td>F</td>\n",
       "      <td>L</td>\n",
       "      <td>28</td>\n",
       "      <td>1740.390711</td>\n",
       "      <td>4260.973134</td>\n",
       "      <td>33632.95400</td>\n",
       "      <td>0.0</td>\n",
       "      <td>30.973944</td>\n",
       "      <td>183.868389</td>\n",
       "      <td>0.006510</td>\n",
       "      <td>2197.159165</td>\n",
       "      <td>0.181287</td>\n",
       "    </tr>\n",
       "    <tr>\n",
       "      <th>3</th>\n",
       "      <td>68</td>\n",
       "      <td>0068-4.jpg</td>\n",
       "      <td>1</td>\n",
       "      <td>1</td>\n",
       "      <td>F</td>\n",
       "      <td>L</td>\n",
       "      <td>28</td>\n",
       "      <td>2047.900847</td>\n",
       "      <td>4286.241318</td>\n",
       "      <td>32412.94476</td>\n",
       "      <td>0.0</td>\n",
       "      <td>28.165933</td>\n",
       "      <td>186.055214</td>\n",
       "      <td>0.025942</td>\n",
       "      <td>1875.711604</td>\n",
       "      <td>0.193084</td>\n",
       "    </tr>\n",
       "    <tr>\n",
       "      <th>4</th>\n",
       "      <td>92</td>\n",
       "      <td>0092-1.jpg</td>\n",
       "      <td>2</td>\n",
       "      <td>1</td>\n",
       "      <td>M</td>\n",
       "      <td>R</td>\n",
       "      <td>37</td>\n",
       "      <td>2059.220895</td>\n",
       "      <td>4733.016802</td>\n",
       "      <td>35437.08102</td>\n",
       "      <td>0.0</td>\n",
       "      <td>22.091342</td>\n",
       "      <td>186.092103</td>\n",
       "      <td>0.000000</td>\n",
       "      <td>1625.325851</td>\n",
       "      <td>0.193642</td>\n",
       "    </tr>\n",
       "  </tbody>\n",
       "</table>\n",
       "</div>"
      ],
      "text/plain": [
       "   _ID_EXAM  IMAGE_NAME  ID_PATIENT  CLASS_TYPE GENDER RIGH/LEFT-HANDED  AGE  \\\n",
       "0        68  0068-1.jpg           1           1      F                L   28   \n",
       "1        68  0068-2.jpg           1           1      F                L   28   \n",
       "2        68  0068-3.jpg           1           1      F                L   28   \n",
       "3        68  0068-4.jpg           1           1      F                L   28   \n",
       "4        92  0092-1.jpg           2           1      M                R   37   \n",
       "\n",
       "           RMS  MAX_BETWEEN_ET_HT  MIN_BETWEEN_ET_HT  STD_DEVIATION_ET_HT  \\\n",
       "0  2446.759108        5388.771096        33435.39545                  0.0   \n",
       "1  2159.220559        4617.939790        34428.29401                  0.0   \n",
       "2  1740.390711        4260.973134        33632.95400                  0.0   \n",
       "3  2047.900847        4286.241318        32412.94476                  0.0   \n",
       "4  2059.220895        4733.016802        35437.08102                  0.0   \n",
       "\n",
       "         MRT      MAX_HT    MIN_HT       STD_HT  \\\n",
       "0  26.849731  183.854351  0.017068  1779.550502   \n",
       "1  26.758489  186.609895  0.000000  1885.340368   \n",
       "2  30.973944  183.868389  0.006510  2197.159165   \n",
       "3  28.165933  186.055214  0.025942  1875.711604   \n",
       "4  22.091342  186.092103  0.000000  1625.325851   \n",
       "\n",
       "   CHANGES_FROM_NEGATIVE_TO_POSITIVE_BETWEEN_ET_HT  \n",
       "0                                         0.216138  \n",
       "1                                         0.184438  \n",
       "2                                         0.181287  \n",
       "3                                         0.193084  \n",
       "4                                         0.193642  "
      ]
     },
     "execution_count": 6,
     "metadata": {},
     "output_type": "execute_result"
    }
   ],
   "source": [
    "df_s.head()"
   ]
  },
  {
   "cell_type": "code",
   "execution_count": 7,
   "metadata": {},
   "outputs": [],
   "source": [
    "##### Summary of our dataframe: To have a good grasp on our data we will take a look at column names to refer them further, total non-null count in that column and the data-type of respective columns we will use DataFrame.info() function as show below"
   ]
  },
  {
   "cell_type": "code",
   "execution_count": 8,
   "metadata": {},
   "outputs": [
    {
     "name": "stdout",
     "output_type": "stream",
     "text": [
      "<class 'pandas.core.frame.DataFrame'>\n",
      "RangeIndex: 368 entries, 0 to 367\n",
      "Data columns (total 16 columns):\n",
      " #   Column                                           Non-Null Count  Dtype  \n",
      "---  ------                                           --------------  -----  \n",
      " 0   _ID_EXAM                                         368 non-null    int64  \n",
      " 1   IMAGE_NAME                                       368 non-null    object \n",
      " 2   ID_PATIENT                                       368 non-null    int64  \n",
      " 3   CLASS_TYPE                                       368 non-null    int64  \n",
      " 4   GENDER                                           368 non-null    object \n",
      " 5   RIGH/LEFT-HANDED                                 368 non-null    object \n",
      " 6   AGE                                              368 non-null    int64  \n",
      " 7   RMS                                              368 non-null    float64\n",
      " 8   MAX_BETWEEN_ET_HT                                368 non-null    float64\n",
      " 9   MIN_BETWEEN_ET_HT                                368 non-null    float64\n",
      " 10  STD_DEVIATION_ET_HT                              368 non-null    float64\n",
      " 11  MRT                                              368 non-null    float64\n",
      " 12  MAX_HT                                           368 non-null    float64\n",
      " 13  MIN_HT                                           368 non-null    float64\n",
      " 14  STD_HT                                           368 non-null    float64\n",
      " 15  CHANGES_FROM_NEGATIVE_TO_POSITIVE_BETWEEN_ET_HT  368 non-null    float64\n",
      "dtypes: float64(9), int64(4), object(3)\n",
      "memory usage: 46.1+ KB\n"
     ]
    }
   ],
   "source": [
    "df_s.info()"
   ]
  },
  {
   "cell_type": "code",
   "execution_count": 9,
   "metadata": {},
   "outputs": [],
   "source": [
    "### Statistic on our data We can have a brief analysis on our dataframe using DataFrame.describe function. Let me elaborate the output w.r.t each columns:\n",
    "##count: total no. of data entries\n",
    "##mean: mean of all the values (does not work for character/string columns)\n",
    "##std: standard deviation i.e dispersion from mean\n",
    "##min: smallest value\n",
    "##25%: 25% of all your values are below that value\n",
    "##50%: 50% of all your values are below that value (this is also the median of the column)\n",
    "##75%: 75% of all your values are below that value\n",
    "##(for 100 data entries in a columsn 25%, 50% and 75% will give 25th, 50th and 75th value)\n",
    "##max: largest value"
   ]
  },
  {
   "cell_type": "code",
   "execution_count": 10,
   "metadata": {},
   "outputs": [
    {
     "data": {
      "text/html": [
       "<div>\n",
       "<style scoped>\n",
       "    .dataframe tbody tr th:only-of-type {\n",
       "        vertical-align: middle;\n",
       "    }\n",
       "\n",
       "    .dataframe tbody tr th {\n",
       "        vertical-align: top;\n",
       "    }\n",
       "\n",
       "    .dataframe thead th {\n",
       "        text-align: right;\n",
       "    }\n",
       "</style>\n",
       "<table border=\"1\" class=\"dataframe\">\n",
       "  <thead>\n",
       "    <tr style=\"text-align: right;\">\n",
       "      <th></th>\n",
       "      <th>_ID_EXAM</th>\n",
       "      <th>ID_PATIENT</th>\n",
       "      <th>CLASS_TYPE</th>\n",
       "      <th>AGE</th>\n",
       "      <th>RMS</th>\n",
       "      <th>MAX_BETWEEN_ET_HT</th>\n",
       "      <th>MIN_BETWEEN_ET_HT</th>\n",
       "      <th>STD_DEVIATION_ET_HT</th>\n",
       "      <th>MRT</th>\n",
       "      <th>MAX_HT</th>\n",
       "      <th>MIN_HT</th>\n",
       "      <th>STD_HT</th>\n",
       "      <th>CHANGES_FROM_NEGATIVE_TO_POSITIVE_BETWEEN_ET_HT</th>\n",
       "    </tr>\n",
       "  </thead>\n",
       "  <tbody>\n",
       "    <tr>\n",
       "      <th>count</th>\n",
       "      <td>368.000000</td>\n",
       "      <td>368.000000</td>\n",
       "      <td>368.000000</td>\n",
       "      <td>368.000000</td>\n",
       "      <td>368.000000</td>\n",
       "      <td>368.000000</td>\n",
       "      <td>368.000000</td>\n",
       "      <td>368.000000</td>\n",
       "      <td>368.000000</td>\n",
       "      <td>368.000000</td>\n",
       "      <td>368.000000</td>\n",
       "      <td>368.000000</td>\n",
       "      <td>368.000000</td>\n",
       "    </tr>\n",
       "    <tr>\n",
       "      <th>mean</th>\n",
       "      <td>160.315217</td>\n",
       "      <td>16.948370</td>\n",
       "      <td>1.804348</td>\n",
       "      <td>55.630435</td>\n",
       "      <td>2270.185566</td>\n",
       "      <td>4655.817222</td>\n",
       "      <td>31814.991755</td>\n",
       "      <td>0.356294</td>\n",
       "      <td>24.857421</td>\n",
       "      <td>179.174107</td>\n",
       "      <td>0.012933</td>\n",
       "      <td>1652.280165</td>\n",
       "      <td>0.190768</td>\n",
       "    </tr>\n",
       "    <tr>\n",
       "      <th>std</th>\n",
       "      <td>87.641694</td>\n",
       "      <td>10.913334</td>\n",
       "      <td>0.397242</td>\n",
       "      <td>11.744526</td>\n",
       "      <td>595.123226</td>\n",
       "      <td>823.967869</td>\n",
       "      <td>3714.426450</td>\n",
       "      <td>3.362279</td>\n",
       "      <td>2.904579</td>\n",
       "      <td>5.655707</td>\n",
       "      <td>0.015614</td>\n",
       "      <td>218.212572</td>\n",
       "      <td>0.034487</td>\n",
       "    </tr>\n",
       "    <tr>\n",
       "      <th>min</th>\n",
       "      <td>2.000000</td>\n",
       "      <td>1.000000</td>\n",
       "      <td>1.000000</td>\n",
       "      <td>19.000000</td>\n",
       "      <td>1149.453428</td>\n",
       "      <td>3026.734118</td>\n",
       "      <td>12021.729690</td>\n",
       "      <td>0.000000</td>\n",
       "      <td>17.520778</td>\n",
       "      <td>162.410537</td>\n",
       "      <td>0.000000</td>\n",
       "      <td>1110.767518</td>\n",
       "      <td>0.080925</td>\n",
       "    </tr>\n",
       "    <tr>\n",
       "      <th>25%</th>\n",
       "      <td>99.500000</td>\n",
       "      <td>7.750000</td>\n",
       "      <td>2.000000</td>\n",
       "      <td>52.000000</td>\n",
       "      <td>1857.323506</td>\n",
       "      <td>4104.916256</td>\n",
       "      <td>30318.196730</td>\n",
       "      <td>0.000000</td>\n",
       "      <td>22.965599</td>\n",
       "      <td>175.298802</td>\n",
       "      <td>0.000000</td>\n",
       "      <td>1485.222378</td>\n",
       "      <td>0.168483</td>\n",
       "    </tr>\n",
       "    <tr>\n",
       "      <th>50%</th>\n",
       "      <td>175.000000</td>\n",
       "      <td>16.000000</td>\n",
       "      <td>2.000000</td>\n",
       "      <td>57.000000</td>\n",
       "      <td>2137.835429</td>\n",
       "      <td>4534.277453</td>\n",
       "      <td>31910.524955</td>\n",
       "      <td>0.000000</td>\n",
       "      <td>24.550035</td>\n",
       "      <td>179.521660</td>\n",
       "      <td>0.008539</td>\n",
       "      <td>1641.108043</td>\n",
       "      <td>0.190616</td>\n",
       "    </tr>\n",
       "    <tr>\n",
       "      <th>75%</th>\n",
       "      <td>231.000000</td>\n",
       "      <td>26.250000</td>\n",
       "      <td>2.000000</td>\n",
       "      <td>63.000000</td>\n",
       "      <td>2515.601624</td>\n",
       "      <td>5064.162306</td>\n",
       "      <td>33683.125508</td>\n",
       "      <td>0.006597</td>\n",
       "      <td>26.459068</td>\n",
       "      <td>183.218993</td>\n",
       "      <td>0.019617</td>\n",
       "      <td>1809.679931</td>\n",
       "      <td>0.210413</td>\n",
       "    </tr>\n",
       "    <tr>\n",
       "      <th>max</th>\n",
       "      <td>305.000000</td>\n",
       "      <td>37.000000</td>\n",
       "      <td>2.000000</td>\n",
       "      <td>79.000000</td>\n",
       "      <td>5094.404297</td>\n",
       "      <td>7480.764160</td>\n",
       "      <td>47688.289020</td>\n",
       "      <td>61.262583</td>\n",
       "      <td>35.752336</td>\n",
       "      <td>203.759111</td>\n",
       "      <td>0.113909</td>\n",
       "      <td>2280.436125</td>\n",
       "      <td>0.309249</td>\n",
       "    </tr>\n",
       "  </tbody>\n",
       "</table>\n",
       "</div>"
      ],
      "text/plain": [
       "         _ID_EXAM  ID_PATIENT  CLASS_TYPE         AGE          RMS  \\\n",
       "count  368.000000  368.000000  368.000000  368.000000   368.000000   \n",
       "mean   160.315217   16.948370    1.804348   55.630435  2270.185566   \n",
       "std     87.641694   10.913334    0.397242   11.744526   595.123226   \n",
       "min      2.000000    1.000000    1.000000   19.000000  1149.453428   \n",
       "25%     99.500000    7.750000    2.000000   52.000000  1857.323506   \n",
       "50%    175.000000   16.000000    2.000000   57.000000  2137.835429   \n",
       "75%    231.000000   26.250000    2.000000   63.000000  2515.601624   \n",
       "max    305.000000   37.000000    2.000000   79.000000  5094.404297   \n",
       "\n",
       "       MAX_BETWEEN_ET_HT  MIN_BETWEEN_ET_HT  STD_DEVIATION_ET_HT         MRT  \\\n",
       "count         368.000000         368.000000           368.000000  368.000000   \n",
       "mean         4655.817222       31814.991755             0.356294   24.857421   \n",
       "std           823.967869        3714.426450             3.362279    2.904579   \n",
       "min          3026.734118       12021.729690             0.000000   17.520778   \n",
       "25%          4104.916256       30318.196730             0.000000   22.965599   \n",
       "50%          4534.277453       31910.524955             0.000000   24.550035   \n",
       "75%          5064.162306       33683.125508             0.006597   26.459068   \n",
       "max          7480.764160       47688.289020            61.262583   35.752336   \n",
       "\n",
       "           MAX_HT      MIN_HT       STD_HT  \\\n",
       "count  368.000000  368.000000   368.000000   \n",
       "mean   179.174107    0.012933  1652.280165   \n",
       "std      5.655707    0.015614   218.212572   \n",
       "min    162.410537    0.000000  1110.767518   \n",
       "25%    175.298802    0.000000  1485.222378   \n",
       "50%    179.521660    0.008539  1641.108043   \n",
       "75%    183.218993    0.019617  1809.679931   \n",
       "max    203.759111    0.113909  2280.436125   \n",
       "\n",
       "       CHANGES_FROM_NEGATIVE_TO_POSITIVE_BETWEEN_ET_HT  \n",
       "count                                       368.000000  \n",
       "mean                                          0.190768  \n",
       "std                                           0.034487  \n",
       "min                                           0.080925  \n",
       "25%                                           0.168483  \n",
       "50%                                           0.190616  \n",
       "75%                                           0.210413  \n",
       "max                                           0.309249  "
      ]
     },
     "execution_count": 10,
     "metadata": {},
     "output_type": "execute_result"
    }
   ],
   "source": [
    "df_s.describe()"
   ]
  },
  {
   "cell_type": "code",
   "execution_count": 11,
   "metadata": {},
   "outputs": [],
   "source": [
    "##### Verify if our dataset has any null values\n",
    "##DataFrame.isna() returns a DataFrame with boolean values i.e if value is null return False else return True\n",
    "##Applying .sum() on the method above will sum the total count of true values for that column\n",
    "##(First execute DataFrame.isna() to check how an boolean dataframe looks like)"
   ]
  },
  {
   "cell_type": "code",
   "execution_count": 12,
   "metadata": {},
   "outputs": [
    {
     "data": {
      "text/plain": [
       "_ID_EXAM                                           0\n",
       "IMAGE_NAME                                         0\n",
       "ID_PATIENT                                         0\n",
       "CLASS_TYPE                                         0\n",
       "GENDER                                             0\n",
       "RIGH/LEFT-HANDED                                   0\n",
       "AGE                                                0\n",
       "RMS                                                0\n",
       "MAX_BETWEEN_ET_HT                                  0\n",
       "MIN_BETWEEN_ET_HT                                  0\n",
       "STD_DEVIATION_ET_HT                                0\n",
       "MRT                                                0\n",
       "MAX_HT                                             0\n",
       "MIN_HT                                             0\n",
       "STD_HT                                             0\n",
       "CHANGES_FROM_NEGATIVE_TO_POSITIVE_BETWEEN_ET_HT    0\n",
       "dtype: int64"
      ]
     },
     "execution_count": 12,
     "metadata": {},
     "output_type": "execute_result"
    }
   ],
   "source": [
    "df_s.isna().sum()"
   ]
  },
  {
   "cell_type": "code",
   "execution_count": 13,
   "metadata": {},
   "outputs": [],
   "source": [
    "### Undestanding correlation using Heatmap visulisation .\n",
    "#### What is correlation ?\n",
    "##    Checking correlations is an important part of the exploratory data analysis process </br>\n",
    "##    Correlation is a term that is a measure of the strength of a linear relationship between two quantitative variables (so, higher the correlation value higher is the dependecy of variables on each other)\n",
    "##    Positive correlation is a relationship between two variables in which both variables move in the same direction. This is when one variable increases while the other increases and visa versa.\n",
    "##Where as negative correlation is a relationship where one variable increases as the other decreases, and vice versa.\n",
    "##    Function to create 2d correlation matrix DataFrame.corr()\n",
    "#### What is a Heatmap ?\n",
    "##    A heat map is a data visualization technique that shows magnitude of a phenomenon as color in two dimensions. The variation in color represent varuable in values.\n",
    "##    A simple way to plot a heatmap in Python is by importing and implementing the Seaborn library\n",
    "##Function to draw a heatmap Seaborn.heatmap()\n",
    "##Important paramteres of heatmap function\n",
    "##  data: a 2d array\n",
    "##  annot: if True, writes the data value in each cell"
   ]
  },
  {
   "cell_type": "code",
   "execution_count": 14,
   "metadata": {},
   "outputs": [
    {
     "data": {
      "text/plain": [
       "<matplotlib.axes._subplots.AxesSubplot at 0x1e2177d6988>"
      ]
     },
     "execution_count": 14,
     "metadata": {},
     "output_type": "execute_result"
    },
    {
     "data": {
      "image/png": "[encoded data removed]",
      "text/plain": [
       "<Figure size 1080x1080 with 2 Axes>"
      ]
     },
     "metadata": {},
     "output_type": "display_data"
    }
   ],
   "source": [
    "corr_map=df_s.corr()\n",
    "sns.set_style('darkgrid') \n",
    "# sns.set_style help to set color of the axes, whether a grid is enabled by default, and other aesthetic elements.\n",
    "plt.figure(figsize=(15,15))\n",
    "sns.heatmap(data=corr_map, annot=True)"
   ]
  },
  {
   "cell_type": "code",
   "execution_count": 15,
   "metadata": {},
   "outputs": [],
   "source": [
    "### Correlation of target label status with each feature\n",
    "##df.corr()['CLASS_TYPE'] will return the correlation values status column\n",
    "##correlation_values.abs().sort_values(ascending=False) this will covert the correlation values to positive and then sort them in descending order\n",
    "##(This will help us sort correlation values)"
   ]
  },
  {
   "cell_type": "code",
   "execution_count": 16,
   "metadata": {},
   "outputs": [
    {
     "data": {
      "text/plain": [
       "CLASS_TYPE                                         1.000000\n",
       "AGE                                                0.503088\n",
       "ID_PATIENT                                         0.337066\n",
       "RMS                                                0.176411\n",
       "MAX_HT                                             0.152115\n",
       "CHANGES_FROM_NEGATIVE_TO_POSITIVE_BETWEEN_ET_HT    0.138796\n",
       "MIN_BETWEEN_ET_HT                                  0.095861\n",
       "MAX_BETWEEN_ET_HT                                  0.094716\n",
       "MIN_HT                                             0.053629\n",
       "_ID_EXAM                                           0.051757\n",
       "STD_HT                                             0.047784\n",
       "STD_DEVIATION_ET_HT                                0.046285\n",
       "MRT                                                0.045640\n",
       "Name: CLASS_TYPE, dtype: float64"
      ]
     },
     "execution_count": 16,
     "metadata": {},
     "output_type": "execute_result"
    }
   ],
   "source": [
    "correlation_values=df_s.corr()['CLASS_TYPE']\n",
    "correlation_values.abs().sort_values(ascending=False)"
   ]
  },
  {
   "cell_type": "code",
   "execution_count": 17,
   "metadata": {},
   "outputs": [],
   "source": [
    "### Extract features and taget label into two different dataframes\n",
    "##df.loc[:,df.columns!='CLASS_TYPE'] : extract all columns except label CLASS_TYPE\n",
    "##df.loc[:,'CLASS_TYPE'] : extract taget column named CLASS_TYPE"
   ]
  },
  {
   "cell_type": "code",
   "execution_count": 18,
   "metadata": {},
   "outputs": [],
   "source": [
    "features=df_s.loc[:,df_s.columns!='CLASS_TYPE']\n",
    "labels=df_s.loc[:,'CLASS_TYPE']"
   ]
  },
  {
   "cell_type": "code",
   "execution_count": 19,
   "metadata": {},
   "outputs": [],
   "source": [
    "features = features.drop(['_ID_EXAM', 'IMAGE_NAME','ID_PATIENT','GENDER','RIGH/LEFT-HANDED','AGE'], axis=1)"
   ]
  },
  {
   "cell_type": "code",
   "execution_count": 20,
   "metadata": {},
   "outputs": [],
   "source": [
    "###### Analyse count of people affected as well as not affected with Parkinson disease\n",
    "##labels[labels==1].shape : returns total number of rows with target lable 1 (Not having parkinson disease)\n",
    "##labels[labels==2].shape : returns total number of rows with target label 2 (Having parkinson disease)"
   ]
  },
  {
   "cell_type": "code",
   "execution_count": 21,
   "metadata": {},
   "outputs": [
    {
     "name": "stdout",
     "output_type": "stream",
     "text": [
      " Examples with label '1': (72,)\n",
      " Examples with label '2': (296,)\n"
     ]
    }
   ],
   "source": [
    "print(\" Examples with label '1': {}\\n Examples with label '2': {}\".format(labels[labels==1].shape, labels[labels==2].shape))"
   ]
  },
  {
   "cell_type": "code",
   "execution_count": 22,
   "metadata": {},
   "outputs": [],
   "source": [
    "#### Preprocessing our data with MinMax Scaler\n",
    "##MinMaxScaler() transforms features by scaling each feature to a given range.\n",
    "##This estimator scales and translates each feature individually such that it is in the given range on the training set, e.g. between (-1,1).\n",
    "##So, we will first initialise our MinMaxSacler"
   ]
  },
  {
   "cell_type": "code",
   "execution_count": 23,
   "metadata": {},
   "outputs": [],
   "source": [
    "mm_scaler = MinMaxScaler(feature_range=(-1,1))"
   ]
  },
  {
   "cell_type": "code",
   "execution_count": 24,
   "metadata": {},
   "outputs": [],
   "source": [
    "#### Fit and Transform using MinMax Scaler\n",
    "##what fit_transform does is that performs the necessary calculation first and then do transformation on that data\n",
    "##The basic formula for Min-Max scaling is how below:\n",
    "## Xnew = (X_i  – min(X))/(max(X) – min(X)) \n",
    "    \n"
   ]
  },
  {
   "cell_type": "code",
   "execution_count": 25,
   "metadata": {},
   "outputs": [],
   "source": [
    "X = mm_scaler.fit_transform(features) \n",
    "y = labels.values"
   ]
  },
  {
   "cell_type": "code",
   "execution_count": 26,
   "metadata": {},
   "outputs": [],
   "source": [
    "### Train Test Split\n",
    "#The train_test_split function is for splitting a single dataset for two different purposes: training and testing. The testing subset is for building your model.\n",
    "#The testing subset is for using the model on unknown data to evaluate the performance of the model\n",
    "#Some important paramaters of train_test_split() are as follows:\n",
    "#X, y: The first parameter is the dataset you're selecting to use.\n",
    "#test_size: This parameter specifies the size of the testing dataset.\n",
    "#random_state: To save the state of train_test_split so that the radnom split generated is same every time.\n",
    "#We have distrbuted our data as follows:\n",
    "#train data: 70% of total data\n",
    "#test_data: 30% of total data"
   ]
  },
  {
   "cell_type": "code",
   "execution_count": 27,
   "metadata": {},
   "outputs": [],
   "source": [
    "X_train, X_test, y_train, y_test = train_test_split(X, y, test_size=0.3, random_state=10)"
   ]
  },
  {
   "cell_type": "code",
   "execution_count": 28,
   "metadata": {},
   "outputs": [],
   "source": [
    "# ### We will be using XGBoost Classifier\n",
    "\n",
    "#Some important parameters of XGBoost Classifier are as follows :\n",
    "\n",
    "# booster [default=gbtree]\n",
    "# Select the type of model to run at each iteration. It has 2 options:\n",
    "# gbtree: tree-based models\n",
    "# gblinear: linear models\n",
    "# silent [default=0]:\n",
    "\n",
    "# Silent mode is activated is set to 1, i.e. no running messages will be printed.\n",
    "# It’s generally good to keep it 0 as the messages might help in understanding the model.\n",
    "# eta [default=0.3]\n",
    "\n",
    "# Analogous to learning rate in GBM\n",
    "# Makes the model more robust by shrinking the weights on each step\n",
    "# Typical final values to be used: 0.01-0.2\n",
    "# min_child_weight [default=1]\n",
    "\n",
    "# Defines the minimum sum of weights of all observations required in a child.\n",
    "# This is similar to min_child_leaf in GBM but not exactly. This refers to min “sum of weights” of observations while GBM has min “number of observations”.\n",
    "# Used to control over-fitting. Higher values prevent a model from learning relations which might be highly specific to the particular sample selected for a tree.\n",
    "# Too high values can lead to under-fitting hence, it should be tuned using CV.\n",
    "# max_depth [default=6]\n",
    "# The maximum depth of a tree, same as GBM.\n",
    "# Used to control over-fitting as higher depth will allow model to learn relations very specific to a particular sample.\n",
    "# Should be tuned using CV.\n",
    "# Typical values: 3-10\n",
    "# max_leaf_nodes\n",
    "# The maximum number of terminal nodes or leaves in a tree.\n",
    "# Can be defined in place of max_depth. Since binary trees are created, a depth of ‘n’ would produce a maximum of 2^n leaves.\n",
    "# If this is defined, GBM will ignore max_depth. gamma [default=0]\n",
    "# A node is split only when the resulting split gives a positive reduction in the loss function. Gamma specifies the minimum loss reduction required to make a split.\n",
    "# Makes the algorithm conservative. The values can vary depending on the loss function and should be tuned.\n",
    "\n",
    "# subsample [default=1]\n",
    "# Same as the subsample of GBM. Denotes the fraction of observations to be randomly samples for each tree.\n",
    "# Lower values make the algorithm more conservative and prevents overfitting but too small values might lead to under-fitting.\n",
    "# Typical values: 0.5-1\n",
    "# lambda [default=1]\n",
    "# L2 regularization term on weights (analogous to Ridge regression)\n",
    "# This used to handle the regularization part of XGBoost. Though many data scientists don’t use it often, it should be explored to reduce overfitting.\n",
    "# alpha [default=0]\n",
    "# L1 regularization term on weight (analogous to Lasso regression) Can be used in case of very high dimensionality so that the algorithm runs faster when implemented\n",
    "# scale_pos_weight [default=1]\n",
    "# A value greater than 0 should be used in case of high class imbalance as it helps in faster convergence.\n",
    "\n",
    "\n",
    "# I have not provided any parameter to the XGBosot Classifier Model , I will be using the default values but you can try different values\n",
    "# We will initialize a XGBClassier model\n",
    "# Train and fit our train data on the classfier with method :\n",
    "# xbg_model.fit(X_train, y_train)\n"
   ]
  },
  {
   "cell_type": "code",
   "execution_count": 29,
   "metadata": {},
   "outputs": [
    {
     "data": {
      "text/plain": [
       "XGBClassifier(base_score=0.5, booster='gbtree', colsample_bylevel=1,\n",
       "              colsample_bynode=1, colsample_bytree=1, gamma=0, gpu_id=-1,\n",
       "              importance_type='gain', interaction_constraints='',\n",
       "              learning_rate=0.300000012, max_delta_step=0, max_depth=6,\n",
       "              min_child_weight=1, missing=nan, monotone_constraints='()',\n",
       "              n_estimators=100, n_jobs=0, num_parallel_tree=1,\n",
       "              objective='binary:logistic', random_state=0, reg_alpha=0,\n",
       "              reg_lambda=1, scale_pos_weight=1, subsample=1,\n",
       "              tree_method='exact', validate_parameters=1, verbosity=None)"
      ]
     },
     "execution_count": 29,
     "metadata": {},
     "output_type": "execute_result"
    }
   ],
   "source": [
    "xbg_model = XGBClassifier()\n",
    "xbg_model.fit(X_train, y_train)"
   ]
  },
  {
   "cell_type": "code",
   "execution_count": 30,
   "metadata": {},
   "outputs": [],
   "source": [
    "# #### Prediction on test data\n",
    "# Predict with test data using:\n",
    "# xbg_model.predict(X_test)"
   ]
  },
  {
   "cell_type": "code",
   "execution_count": 31,
   "metadata": {},
   "outputs": [],
   "source": [
    "y_pred = xbg_model.predict(X_test)"
   ]
  },
  {
   "cell_type": "code",
   "execution_count": 32,
   "metadata": {},
   "outputs": [],
   "source": [
    "# ### Performance of our classification model using confusion matix\n",
    "# In the field of machine learning and specifically the problem of statistical classification, a confusion matrix, also known as an error matrix are highly dependable output matrix.\n",
    "# A confusion matrix is a table that is often used to describe the performance of a classification model (or “classifier”) on a set of test data for which the true values are known\n",
    "# Its give summary of prediction results on a classification problem.\n",
    "# The number of correct and incorrect predictions are summarized with count values and broken down by each class.\n",
    "# This is the key to the confusion matrix.\n",
    "# The confusion matrix shows the ways in which your classification model is confused when it makes predictions.\n",
    "# It gives us insight not only into the errors being made by a classifier but more importantly the types of errors that are being made.\n"
   ]
  },
  {
   "cell_type": "code",
   "execution_count": 33,
   "metadata": {},
   "outputs": [
    {
     "name": "stdout",
     "output_type": "stream",
     "text": [
      "[[ 7 16]\n",
      " [ 3 85]]\n"
     ]
    }
   ],
   "source": [
    "print(confusion_matrix(y_test, y_pred))"
   ]
  },
  {
   "cell_type": "code",
   "execution_count": 34,
   "metadata": {},
   "outputs": [],
   "source": [
    "\n",
    "# #### From our confusion matrix we can conclude that we have predicted about 19 wrong predictions:\n",
    "# 16 are False Negatives\n",
    "# 3 are False Positves\n",
    "# That mean our model has classified 16 patients as negative even when they were positive and 3 patient as positive even if he was negative\n",
    "# In Medical diagnosis we can deal with False Positives but we cannot use the results directly from a model that has higher number of False Negative at any cost\n",
    "# So, what we do is tune(improve) our model and always try reduce False Negative as much as possible which untimately increases the model accuarcy\n",
    "# ### Our classification model accuracy score\n",
    "# The most common metric for classification is accuracy, which is the fraction of samples predicted correctly\n",
    "# Accuracy is the ratio of Total No. Correct prediction and Total No. of Predictions\n",
    "### Sklearn's confusion matrix can be used as follow: confusion_matrix(y_true, y_pred)"
   ]
  },
  {
   "cell_type": "code",
   "execution_count": 35,
   "metadata": {},
   "outputs": [
    {
     "name": "stdout",
     "output_type": "stream",
     "text": [
      "0.8288288288288288\n"
     ]
    }
   ],
   "source": [
    "print(accuracy_score(y_test, y_pred))"
   ]
  },
  {
   "cell_type": "code",
   "execution_count": null,
   "metadata": {},
   "outputs": [],
   "source": []
  }
 ],
 "metadata": {
  "kernelspec": {
   "display_name": "Python 3",
   "language": "python",
   "name": "python3"
  },
  "language_info": {
   "codemirror_mode": {
    "name": "ipython",
    "version": 3
   },
   "file_extension": ".py",
   "mimetype": "text/x-python",
   "name": "python",
   "nbconvert_exporter": "python",
   "pygments_lexer": "ipython3",
   "version": "3.8.5"
  }
 },
 "nbformat": 4,
 "nbformat_minor": 4
}
